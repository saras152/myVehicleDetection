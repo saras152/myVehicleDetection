{
 "cells": [
  {
   "cell_type": "code",
   "execution_count": null,
   "metadata": {
    "collapsed": true
   },
   "outputs": [],
   "source": [
    "import matplotlib.image as mpimg\n",
    "import matplotlib.pyplot as plt\n",
    "import numpy as np\n",
    "import cv2\n",
    "import glob\n",
    "import random\n",
    "from random import shuffle"
   ]
  },
  {
   "cell_type": "code",
   "execution_count": null,
   "metadata": {
    "collapsed": true
   },
   "outputs": [],
   "source": [
    "def plotmyimage(img,title=''):\n",
    "    #This function is used during the debug phase. \n",
    "    #This just plots the image \n",
    "    plt.imshow(img,cmap='gray') # draws in grayscale if it is M x N x 1, draws in color if RGB\n",
    "    plt.title(title)\n",
    "    plt.show()\n"
   ]
  },
  {
   "cell_type": "code",
   "execution_count": null,
   "metadata": {
    "collapsed": false
   },
   "outputs": [],
   "source": [
    "cars=glob.glob('vehicles/vehicles/*/*.png')\n",
    "notcars=glob.glob('non-vehicles/non-vehicles/*/*.png')\n",
    "shuffle(cars)\n",
    "shuffle(notcars)"
   ]
  },
  {
   "cell_type": "code",
   "execution_count": null,
   "metadata": {
    "collapsed": false
   },
   "outputs": [],
   "source": [
    "#Dataset exploration and Visualization\n",
    "print('Number of car images found are     :' + str(len(cars)))\n",
    "print('Number of non-car images found are :' + str(len(notcars)))\n",
    "print('Size of a sample image is          :' + str(mpimg.imread(cars[0]).shape))\n",
    "\n",
    "plotmyimage(mpimg.imread(cars[random.randint(0, len(cars)-1)]),'car sample image')\n",
    "plotmyimage(mpimg.imread(notcars[random.randint(0,len(notcars)-1)]),'non-car sample image')\n"
   ]
  },
  {
   "cell_type": "code",
   "execution_count": null,
   "metadata": {
    "collapsed": false
   },
   "outputs": [],
   "source": [
    "from sklearn.svm import LinearSVC\n",
    "from sklearn.preprocessing import StandardScaler\n",
    "from skimage.feature import hog\n",
    "from sklearn.model_selection import train_test_split\n",
    "\n",
    "\n",
    "# Define a function to return HOG features and visualization\n",
    "def get_hog_features(img, orient, pix_per_cell, cell_per_block, vis=False, feature_vec=True):\n",
    "    # Call with two outputs if vis==True\n",
    "    if vis == True:\n",
    "        features, hog_image = hog(img, orientations=orient, pixels_per_cell=(pix_per_cell, pix_per_cell),\n",
    "                                  cells_per_block=(cell_per_block, cell_per_block), transform_sqrt=True, \n",
    "                                  visualise=vis, feature_vector=feature_vec)\n",
    "        return features, hog_image\n",
    "    # Otherwise call with one output\n",
    "    else:      \n",
    "        features = hog(img, orientations=orient, pixels_per_cell=(pix_per_cell, pix_per_cell),\n",
    "                       cells_per_block=(cell_per_block, cell_per_block), transform_sqrt=True, \n",
    "                       visualise=vis, feature_vector=feature_vec)\n",
    "        return features\n",
    "\n",
    "def bin_spatial(img, color_space='RGB', size=(32, 32)):\n",
    "    # Convert image to new color space (if specified)\n",
    "    # Use cv2.resize().ravel() to create the feature vector\n",
    "    if color_space != 'RGB':\n",
    "        if color_space == 'HSV':\n",
    "            feature_image = cv2.cvtColor(img, cv2.COLOR_RGB2HSV)\n",
    "        elif color_space == 'LUV':\n",
    "            feature_image = cv2.cvtColor(img, cv2.COLOR_RGB2LUV)\n",
    "        elif color_space == 'HLS':\n",
    "            feature_image = cv2.cvtColor(img, cv2.COLOR_RGB2HLS)\n",
    "        elif color_space == 'YUV':\n",
    "            feature_image = cv2.cvtColor(img, cv2.COLOR_RGB2YUV)\n",
    "        elif color_space == 'YCrCb':\n",
    "            feature_image = cv2.cvtColor(img, cv2.COLOR_RGB2YCrCb)\n",
    "    else: feature_image = np.copy(img)             \n",
    "    # Use cv2.resize().ravel() to create the feature vector\n",
    "    features = cv2.resize(feature_image, size).ravel() \n",
    "    # Return the feature vector\n",
    "    return features\n",
    "\n",
    "# Define a function to compute color histogram features  \n",
    "def color_hist(image, nbins=32, bins_range=(0, 256),vis=False):\n",
    "    # Compute the histogram of the RGB channels separately\n",
    "    rhist = np.histogram(image[:,:,0], bins=nbins, range=bins_range)\n",
    "\n",
    "    ghist = np.histogram(image[:,:,1], bins=nbins, range=bins_range)\n",
    "\n",
    "    bhist = np.histogram(image[:,:,2], bins=nbins, range=bins_range)\n",
    "\n",
    "    # Generating bin centers\n",
    "    bin_edges=rhist[1]\n",
    "\n",
    "    bin_centers = bin_centers = (bin_edges[1:]  + bin_edges[0:len(bin_edges)-1])/2\n",
    "\n",
    "    # Concatenate the histograms into a single feature vector\n",
    "    hist_features = np.concatenate((rhist[0], ghist[0], bhist[0]))\n",
    "    # Return the individual histograms, bin_centers and feature vector\n",
    "    if vis==True:\n",
    "        return rhist, ghist, bhist, bin_centers\n",
    "    else:\n",
    "        return hist_features\n",
    "    \n",
    "    \n",
    "\n",
    "\n"
   ]
  },
  {
   "cell_type": "code",
   "execution_count": null,
   "metadata": {
    "collapsed": false
   },
   "outputs": [],
   "source": [
    "#working with HOG features\n",
    "colorspace = 'RGB' # Can be RGB, HSV, LUV, HLS, YUV, YCrCb\n",
    "orient = 9\n",
    "pix_per_cell = 8\n",
    "cell_per_block = 2\n",
    "hog_channel = 0 # Can be 0, 1, 2, or \"ALL\"\n",
    "\n",
    "\n",
    "\n",
    "img=mpimg.imread(cars[random.randint(0, len(cars)-1)])\n",
    "gray=cv2.cvtColor(img,cv2.COLOR_RGB2GRAY)\n",
    "features, hog_image = get_hog_features(gray, orient, pix_per_cell, cell_per_block,vis=True, feature_vec=False)\n",
    "print('The function get_hog_features() resulted in features array with the size: ' +str(features.shape))\n",
    "plotmyimage(img,'sample image')\n",
    "plotmyimage(hog_image,'hog feature extracted image')\n",
    "\n"
   ]
  },
  {
   "cell_type": "code",
   "execution_count": null,
   "metadata": {
    "collapsed": false
   },
   "outputs": [],
   "source": [
    "#reading a random image\n",
    "img=mpimg.imread(cars[random.randint(0, len(cars)-1)])\n",
    "#plotting the sample image\n",
    "plotmyimage(img,'original image')\n",
    "#scaling up the pixel values so that the values are correctly represented\n",
    "img=img*256\n",
    "#calling function for color histofram\n",
    "rh, gh, bh, bincen = color_hist(img, vis=True)\n",
    "plt.bar(bincen, rh[0])\n",
    "#plt.xlim(0, 256)\n",
    "plt.title('R Histogram')\n",
    "plt.show()\n",
    "\n",
    "plt.bar(bincen, gh[0])\n",
    "#plt.xlim(0, 256)\n",
    "plt.title('G Histogram')\n",
    "plt.show()\n",
    "\n",
    "plt.bar(bincen, bh[0])\n",
    "#plt.xlim(0, 256)\n",
    "plt.title('B Histogram')\n",
    "plt.show()"
   ]
  },
  {
   "cell_type": "code",
   "execution_count": null,
   "metadata": {
    "collapsed": false
   },
   "outputs": [],
   "source": [
    "img=mpimg.imread(cars[random.randint(0, len(cars)-1)])\n",
    "#plotting the sample image\n",
    "plotmyimage(img,'original image')\n",
    "#scaling up the pixel values so that the values are correctly represented\n",
    "img=img*256\n",
    "plt.show()\n",
    "\n",
    "bin_f=bin_spatial(img)\n",
    "plt.plot(bin_f)\n",
    "plt.title('spatial bin of the image features in RGB space')\n",
    "plt.show()\n",
    "\n",
    "bin_f=bin_spatial(img,color_space='HSV')\n",
    "plt.plot(bin_f)\n",
    "plt.title('spatial bin of the image features in HSV space')\n",
    "plt.show()\n",
    "\n",
    "bin_f=bin_spatial(img,color_space='LUV')\n",
    "plt.plot(bin_f)\n",
    "plt.title('spatial bin of the image features in LUV space')\n",
    "plt.show()\n",
    "\n",
    "bin_f=bin_spatial(img,color_space='HLS')\n",
    "plt.plot(bin_f)\n",
    "plt.title('spatial bin of the image features in HLS space')\n",
    "plt.show()\n",
    "\n",
    "bin_f=bin_spatial(img,color_space='YUV')\n",
    "plt.plot(bin_f)\n",
    "plt.title('spatial bin of the image features in YUV space')\n",
    "plt.show()\n",
    "\n",
    "bin_f=bin_spatial(img,color_space='YCrCb')\n",
    "plt.plot(bin_f)\n",
    "plt.title('spatial bin of the image features in YCrCb space')\n",
    "plt.show()\n"
   ]
  },
  {
   "cell_type": "code",
   "execution_count": null,
   "metadata": {
    "collapsed": false
   },
   "outputs": [],
   "source": [
    "# Define a function to extract features from a list of images\n",
    "# Have this function call bin_spatial() and color_hist()\n",
    "def extract_features(imgs, \n",
    "                     cspace='RGB', \n",
    "                     orient=9, pix_per_cell=8, cell_per_block=2, \n",
    "                     hog_channel=0,spatial_size=(32,32),\n",
    "                     hist_bins=32,bins_range=(0, 256)\n",
    "                    ):\n",
    "    # Create a list to append feature vectors to\n",
    "    features = []\n",
    "    # Iterate through the list of images\n",
    "    for file in imgs:\n",
    "        # Read in each one by one\n",
    "        image = mpimg.imread(file)\n",
    "        image=image*256\n",
    "        # apply color conversion if other than 'RGB'\n",
    "        if cspace != 'RGB':\n",
    "            if cspace == 'HSV':\n",
    "                feature_image = cv2.cvtColor(image, cv2.COLOR_RGB2HSV)\n",
    "            elif cspace == 'LUV':\n",
    "                feature_image = cv2.cvtColor(image, cv2.COLOR_RGB2LUV)\n",
    "            elif cspace == 'HLS':\n",
    "                feature_image = cv2.cvtColor(image, cv2.COLOR_RGB2HLS)\n",
    "            elif cspace == 'YUV':\n",
    "                feature_image = cv2.cvtColor(image, cv2.COLOR_RGB2YUV)\n",
    "            elif cspace == 'YCrCb':\n",
    "                feature_image = cv2.cvtColor(image, cv2.COLOR_RGB2YCrCb)\n",
    "        else: feature_image = np.copy(image)      \n",
    "        \n",
    "        spatial_features = bin_spatial(feature_image, size=spatial_size)\n",
    "        \n",
    "        hist_features = color_hist(feature_image, nbins=hist_bins, bins_range=bins_range)\n",
    "        \n",
    "        # Call get_hog_features() with vis=False, feature_vec=True\n",
    "        if hog_channel == 'ALL':\n",
    "            hog_features = []\n",
    "            for channel in range(feature_image.shape[2]):\n",
    "                hog_features.append(get_hog_features(feature_image[:,:,channel], \n",
    "                                    orient, pix_per_cell, cell_per_block, \n",
    "                                    vis=False, feature_vec=True))\n",
    "            hog_features = np.ravel(hog_features)        \n",
    "        else:\n",
    "            hog_features = get_hog_features(feature_image[:,:,hog_channel], orient, \n",
    "                        pix_per_cell, cell_per_block, vis=False, feature_vec=True)\n",
    "        # Append the new feature vector to the features list\n",
    "        features.append(hog_features)\n",
    "        features.append(hist_features)\n",
    "        features.append(spatial_features)\n",
    "    # Return list of feature vectors\n",
    "    return features"
   ]
  },
  {
   "cell_type": "code",
   "execution_count": null,
   "metadata": {
    "collapsed": false
   },
   "outputs": [],
   "source": [
    "cars_features=extract_features(cars)\n",
    "notcars_features=extract_features(notcars)\n",
    "print('Total number of features of cars are     : ' +str(np.array(cars_features).shape))\n",
    "print('Total number of features of non-cars are : ' +str(np.array(notcars_features).shape))"
   ]
  },
  {
   "cell_type": "code",
   "execution_count": null,
   "metadata": {
    "collapsed": false
   },
   "outputs": [],
   "source": [
    "X=np.hstack((cars_features,notcars_features))\n",
    "X.shape\n",
    "y=np.hstack((np.ones(len(cars_features)), np.zeros(len(notcars_features))))\n",
    "X_train, X_test, y_train, y_test = train_test_split(X, y,test_size=0.2)"
   ]
  },
  {
   "cell_type": "code",
   "execution_count": null,
   "metadata": {
    "collapsed": false
   },
   "outputs": [],
   "source": [
    "\n",
    "# Use a linear SVC\n",
    "svc = LinearSVC()\n",
    "# Check the training time for the SVC\n",
    "svc.fit(X_train, y_train)\n",
    "\n"
   ]
  },
  {
   "cell_type": "code",
   "execution_count": null,
   "metadata": {
    "collapsed": false
   },
   "outputs": [],
   "source": [
    "X_train.shape"
   ]
  },
  {
   "cell_type": "code",
   "execution_count": null,
   "metadata": {
    "collapsed": false
   },
   "outputs": [],
   "source": [
    "y_train.shape"
   ]
  },
  {
   "cell_type": "code",
   "execution_count": null,
   "metadata": {
    "collapsed": false
   },
   "outputs": [],
   "source": [
    "X_train"
   ]
  },
  {
   "cell_type": "raw",
   "metadata": {},
   "source": [
    "y_train"
   ]
  },
  {
   "cell_type": "code",
   "execution_count": null,
   "metadata": {
    "collapsed": false
   },
   "outputs": [],
   "source": [
    "y_train"
   ]
  },
  {
   "cell_type": "code",
   "execution_count": null,
   "metadata": {
    "collapsed": true
   },
   "outputs": [],
   "source": []
  }
 ],
 "metadata": {
  "anaconda-cloud": {},
  "kernelspec": {
   "display_name": "Python [conda root]",
   "language": "python",
   "name": "conda-root-py"
  },
  "language_info": {
   "codemirror_mode": {
    "name": "ipython",
    "version": 3
   },
   "file_extension": ".py",
   "mimetype": "text/x-python",
   "name": "python",
   "nbconvert_exporter": "python",
   "pygments_lexer": "ipython3",
   "version": "3.5.2"
  }
 },
 "nbformat": 4,
 "nbformat_minor": 2
}
